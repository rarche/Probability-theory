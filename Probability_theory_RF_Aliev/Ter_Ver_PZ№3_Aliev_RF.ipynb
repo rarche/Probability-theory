{
 "cells": [
  {
   "cell_type": "markdown",
   "id": "9c21884c",
   "metadata": {},
   "source": [
    "***1. Даны значения зарплат из выборки выпускников: 100, 80, 75, 77, 89, 33, 45, 25, 65, 17, 30, 24, 57, 55, 70, 75, 65, 84, 90, 150. Посчитать (желательно без использования статистических методов наподобие std, var, mean) среднее арифметическое, среднее квадратичное отклонение, смещенную и несмещенную оценки дисперсий для данной выборки.***"
   ]
  },
  {
   "cell_type": "code",
   "execution_count": 26,
   "id": "5fc3471f",
   "metadata": {},
   "outputs": [
    {
     "name": "stdout",
     "output_type": "stream",
     "text": [
      " среднее арифметическое = 65.3, среднее квадратичное отклонение = 31.624607341019814, смещенная оценка дисперсии = 950.11 \n",
      " несмещенная оценка дисперсии = 1000.1157894736842\n"
     ]
    }
   ],
   "source": [
    "import numpy as np\n",
    "\n",
    "array = sorted([100,80,75,77,89,33,45,25,65,17,30,24,57,55,70,75,65,84,90,150])\n",
    "n = len(array)\n",
    "mean = sum(array)/n\n",
    "var_ddof_1 = sum([(i-mean)**2 for i in array])/(n-1)\n",
    "var = sum([(i-mean)**2 for i in array])/n\n",
    "std_ddof_1 = np.sqrt(var_ddof_1)\n",
    "print(f' Среднее арифметическое = {mean}, среднее квадратичное отклонение = {std_ddof_1}, смещенная оценка дисперсии = {var}', '\\n', f'несмещенная оценка дисперсии = {var_ddof_1}')"
   ]
  },
  {
   "cell_type": "markdown",
   "id": "3a1a5a80",
   "metadata": {},
   "source": [
    "***2. В первом ящике находится 8 мячей, из которых 5 - белые. Во втором ящике - 12 мячей, из которых 5 белых. Из первого ящика вытаскивают случайным образом два мяча, из второго - 4. Какова вероятность того, что 3 мяча белые?***"
   ]
  },
  {
   "cell_type": "code",
   "execution_count": 36,
   "id": "490b813d",
   "metadata": {},
   "outputs": [
    {
     "name": "stdout",
     "output_type": "stream",
     "text": [
      "Вероятность того, что 3 мяча белые ~ 0.369\n"
     ]
    }
   ],
   "source": [
    "from math import factorial,e\n",
    "\n",
    "def combination(k,n):\n",
    "    return int(factorial(n)/(factorial(k)*factorial(n-k)))\n",
    "\n",
    "\n",
    "p_1 = (combination(2,5)/combination(2,8))*((combination(1,5)*combination(3,7))/combination(4,12)) #б-б + б\n",
    "p_2 = ((combination(1,5)*combination(1,3))/combination(2,8))*((combination(2,5)*combination(2,7))/combination(4,12)) #б + б-б\n",
    "p_3 = (combination(2,3)/combination(2,8))*((combination(3,5)*combination(1,7))/combination(4,12)) #0 + б-б-б\n",
    "p = p_1+p_2+p_3\n",
    "print(f'Вероятность того, что 3 мяча белые ~ {round(p,3)}')"
   ]
  },
  {
   "cell_type": "markdown",
   "id": "0cc444a3",
   "metadata": {},
   "source": [
    "***3. На соревновании по биатлону один из трех спортсменов стреляет и попадает в мишень. Вероятность попадания для первого спортсмена равна 0.9, для второго — 0.8, для третьего — 0.6. Найти вероятность того, что выстрел произведен: a). первым спортсменом б). вторым спортсменом в). третьим спортсменом.***"
   ]
  },
  {
   "cell_type": "code",
   "execution_count": 42,
   "id": "c574678d",
   "metadata": {},
   "outputs": [
    {
     "name": "stdout",
     "output_type": "stream",
     "text": [
      "Вероятность того, что выстрел произведен первым спортсменом ~ 0.391; вторым спортсменом ~ 0.348; третьим спортсменом ~ 0.261.\n"
     ]
    }
   ],
   "source": [
    "A = (0.9 + 0.8 + 0.6)/3 # событие А - выстрел и попадание\n",
    "p_1 = (1/3*0.9)/A\n",
    "p_2 = (1/3*0.8)/A\n",
    "p_3 = (1/3*0.6)/A\n",
    "print(f'Вероятность того, что выстрел произведен первым спортсменом ~ {round(p_1,3)}; вторым спортсменом ~ {round(p_2,3)}; третьим спортсменом ~ {round(p_3,3)}.')"
   ]
  },
  {
   "cell_type": "markdown",
   "id": "f727ea87",
   "metadata": {},
   "source": [
    "***4. В университет на факультеты A и B поступило равное количество студентов, а на факультет C студентов поступило столько же, сколько на A и B вместе. Вероятность того, что студент факультета A сдаст первую сессию, равна 0.8. Для студента факультета B эта вероятность равна 0.7, а для студента факультета C - 0.9. Студент сдал первую сессию. Какова вероятность, что он учится: a). на факультете A б). на факультете B в). на факультете C?***\n"
   ]
  },
  {
   "cell_type": "code",
   "execution_count": 43,
   "id": "a2085db1",
   "metadata": {},
   "outputs": [
    {
     "name": "stdout",
     "output_type": "stream",
     "text": [
      "Вероятность, что студент, сдавший сессию учится на факультете A ~ 0.242; на факультете B ~ 0.212; на факультете C ~ 0.545.\n"
     ]
    }
   ],
   "source": [
    "A = (1/4*0.8) + (1/4*0.7) + (1/2*0.9)\n",
    "p_1 = (1/4*0.8)/A\n",
    "p_2 = (1/4*0.7)/A\n",
    "p_3 = (1/2*0.9)/A\n",
    "print(f'Вероятность, что студент, сдавший сессию учится на факультете A ~ {round(p_1,3)}; на факультете B ~ {round(p_2,3)}; на факультете C ~ {round(p_3,3)}.')"
   ]
  },
  {
   "cell_type": "markdown",
   "id": "e81eedba",
   "metadata": {},
   "source": [
    "***5. Устройство состоит из трех деталей. Для первой детали вероятность выйти из строя в первый месяц равна 0.1, для второй - 0.2, для третьей - 0.25. Какова вероятность того, что в первый месяц выйдут из строя:***"
   ]
  },
  {
   "cell_type": "markdown",
   "id": "71dd2d22",
   "metadata": {},
   "source": [
    "*а). все детали*"
   ]
  },
  {
   "cell_type": "code",
   "execution_count": 66,
   "id": "153fcf01",
   "metadata": {},
   "outputs": [
    {
     "data": {
      "text/plain": [
       "0.005"
      ]
     },
     "execution_count": 66,
     "metadata": {},
     "output_type": "execute_result"
    }
   ],
   "source": [
    "p_1 = 0.1\n",
    "p_2 = 0.2\n",
    "p_3 = 0.25\n",
    "\n",
    "p = p_1*p_2*p_3\n",
    "round(p,3)"
   ]
  },
  {
   "cell_type": "markdown",
   "id": "19b37175",
   "metadata": {},
   "source": [
    "*б). только две детали*"
   ]
  },
  {
   "cell_type": "code",
   "execution_count": 67,
   "id": "c49d4531",
   "metadata": {},
   "outputs": [
    {
     "data": {
      "text/plain": [
       "0.08"
      ]
     },
     "execution_count": 67,
     "metadata": {},
     "output_type": "execute_result"
    }
   ],
   "source": [
    "p = (p_1*p_2*(1-p_3)) + (p_1*p_3*(1-p_2)) + ((1-p_1)*p_2*p_3)\n",
    "round(p,3)"
   ]
  },
  {
   "cell_type": "markdown",
   "id": "d61919a3",
   "metadata": {},
   "source": [
    "*в). хотя бы одна деталь*"
   ]
  },
  {
   "cell_type": "code",
   "execution_count": 69,
   "id": "39898199",
   "metadata": {},
   "outputs": [
    {
     "data": {
      "text/plain": [
       "0.46"
      ]
     },
     "execution_count": 69,
     "metadata": {},
     "output_type": "execute_result"
    }
   ],
   "source": [
    "p = 1 - ((1-p_1)*(1-p_2)*(1-p_3))\n",
    "round(p,3)"
   ]
  },
  {
   "cell_type": "markdown",
   "id": "2780d95d",
   "metadata": {},
   "source": [
    "*г). от одной до двух деталей?*"
   ]
  },
  {
   "cell_type": "code",
   "execution_count": 71,
   "id": "a31e4d25",
   "metadata": {},
   "outputs": [
    {
     "data": {
      "text/plain": [
       "0.455"
      ]
     },
     "execution_count": 71,
     "metadata": {},
     "output_type": "execute_result"
    }
   ],
   "source": [
    "p = 1 - ((1-p_1)*(1-p_2)*(1-p_3)) - (p_1*p_2*p_3)\n",
    "round(p,3)"
   ]
  }
 ],
 "metadata": {
  "kernelspec": {
   "display_name": "Python 3 (ipykernel)",
   "language": "python",
   "name": "python3"
  },
  "language_info": {
   "codemirror_mode": {
    "name": "ipython",
    "version": 3
   },
   "file_extension": ".py",
   "mimetype": "text/x-python",
   "name": "python",
   "nbconvert_exporter": "python",
   "pygments_lexer": "ipython3",
   "version": "3.9.7"
  }
 },
 "nbformat": 4,
 "nbformat_minor": 5
}
