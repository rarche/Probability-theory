{
 "cells": [
  {
   "cell_type": "markdown",
   "id": "0ff4a5e9",
   "metadata": {},
   "source": [
    "***1. Даны значения величины заработной платы заемщиков банка (zp) и значения их поведенческого кредитного скоринга (ks):\n",
    "zp = [35, 45, 190, 200, 40, 70, 54, 150, 120, 110],\n",
    "ks = [401, 574, 874, 919, 459, 739, 653, 902, 746, 832].\n",
    "Найдите ковариацию этих двух величин с помощью элементарных действий, а затем с помощью функции cov из numpy\n",
    "Полученные значения должны быть равны.\n",
    "Найдите коэффициент корреляции Пирсона с помощью ковариации и среднеквадратичных отклонений двух признаков,\n",
    "а затем с использованием функций из библиотек numpy и pandas.***"
   ]
  },
  {
   "cell_type": "code",
   "execution_count": 18,
   "id": "68fbe69f",
   "metadata": {},
   "outputs": [
    {
     "data": {
      "text/plain": [
       "9157.839999999997"
      ]
     },
     "execution_count": 18,
     "metadata": {},
     "output_type": "execute_result"
    }
   ],
   "source": [
    "import numpy as np\n",
    "import pandas as pd\n",
    "\n",
    "zp = np.array([35, 45, 190, 200, 40, 70, 54, 150, 120, 110])\n",
    "ks = np.array([401, 574, 874, 919, 459, 739, 653, 902, 746, 832])\n",
    "\n",
    "cov_by_hands = np.mean(zp*ks) - (np.mean(zp)*np.mean(ks))\n",
    "cov_by_hands"
   ]
  },
  {
   "cell_type": "code",
   "execution_count": 21,
   "id": "548d21a1",
   "metadata": {},
   "outputs": [
    {
     "data": {
      "text/plain": [
       "array([[ 3494.64,  9157.84],\n",
       "       [ 9157.84, 30468.89]])"
      ]
     },
     "execution_count": 21,
     "metadata": {},
     "output_type": "execute_result"
    }
   ],
   "source": [
    "cov_np = np.cov(zp,ks,ddof=0)\n",
    "cov_np"
   ]
  },
  {
   "cell_type": "code",
   "execution_count": 24,
   "id": "bd6bf1cf",
   "metadata": {},
   "outputs": [
    {
     "data": {
      "text/plain": [
       "True"
      ]
     },
     "execution_count": 24,
     "metadata": {},
     "output_type": "execute_result"
    }
   ],
   "source": [
    "cov_np[1,1] == cov_by_hands"
   ]
  },
  {
   "cell_type": "code",
   "execution_count": 26,
   "id": "60274c17",
   "metadata": {},
   "outputs": [
    {
     "data": {
      "text/plain": [
       "0.8874900920739158"
      ]
     },
     "execution_count": 26,
     "metadata": {},
     "output_type": "execute_result"
    }
   ],
   "source": [
    "coef_pyrson = cov_by_hands/(np.std(ks)*np.std(zp))"
   ]
  },
  {
   "cell_type": "code",
   "execution_count": 27,
   "id": "a9efd0e0",
   "metadata": {},
   "outputs": [
    {
     "data": {
      "text/plain": [
       "array([[1.        , 0.88749009],\n",
       "       [0.88749009, 1.        ]])"
      ]
     },
     "execution_count": 27,
     "metadata": {},
     "output_type": "execute_result"
    }
   ],
   "source": [
    "np.corrcoef(ks,zp)"
   ]
  },
  {
   "cell_type": "markdown",
   "id": "c896ed5d",
   "metadata": {},
   "source": [
    "***2. Измерены значения IQ выборки студентов,\n",
    "обучающихся в местных технических вузах:\n",
    "131, 125, 115, 122, 131, 115, 107, 99, 125, 111.\n",
    "Известно, что в генеральной совокупности IQ распределен нормально.\n",
    "Найдите доверительный интервал для математического ожидания с надежностью 0.95.***"
   ]
  },
  {
   "cell_type": "code",
   "execution_count": 28,
   "id": "53f42da6",
   "metadata": {},
   "outputs": [
    {
     "name": "stdout",
     "output_type": "stream",
     "text": [
      "[110.5566;125.6434]\n"
     ]
    }
   ],
   "source": [
    "def T_interval(M,T,std,n):\n",
    "    return f'[{round(M-T*(std/np.sqrt(n)),4)};{round(M+T*(std/np.sqrt(n)),4)}]'\n",
    "\n",
    "iq = [131, 125, 115, 122, 131, 115, 107, 99, 125, 111]\n",
    "std = np.std(iq, ddof=1)\n",
    "n = len(iq)\n",
    "T = 2.262\n",
    "M = np.mean(iq)\n",
    "print(T_interval(M,T,std,n))"
   ]
  },
  {
   "cell_type": "markdown",
   "id": "c73d1d12",
   "metadata": {},
   "source": [
    "***3. Известно, что рост футболистов в сборной распределен нормально\n",
    "с дисперсией генеральной совокупности, равной 25 кв.см. Объем выборки равен 27,\n",
    "среднее выборочное составляет 174.2. Найдите доверительный интервал для математического\n",
    "ожидания с надежностью 0.95.***"
   ]
  },
  {
   "cell_type": "code",
   "execution_count": 32,
   "id": "4e5f6fdd",
   "metadata": {},
   "outputs": [
    {
     "name": "stdout",
     "output_type": "stream",
     "text": [
      "[164.8;183.6]\n"
     ]
    }
   ],
   "source": [
    "def Z_interval(M,Z,std,n):\n",
    "    return f'[{round(M-Z*(std/np.sqrt(n)),1)};{round(M+Z*(std/np.sqrt(n)),1)}]'\n",
    "    \n",
    "std = 25\n",
    "M = 174.2\n",
    "n = 27\n",
    "Z = 1.96\n",
    "print(Z_interval(M,Z,std,n))"
   ]
  }
 ],
 "metadata": {
  "kernelspec": {
   "display_name": "Python 3 (ipykernel)",
   "language": "python",
   "name": "python3"
  },
  "language_info": {
   "codemirror_mode": {
    "name": "ipython",
    "version": 3
   },
   "file_extension": ".py",
   "mimetype": "text/x-python",
   "name": "python",
   "nbconvert_exporter": "python",
   "pygments_lexer": "ipython3",
   "version": "3.9.7"
  }
 },
 "nbformat": 4,
 "nbformat_minor": 5
}
