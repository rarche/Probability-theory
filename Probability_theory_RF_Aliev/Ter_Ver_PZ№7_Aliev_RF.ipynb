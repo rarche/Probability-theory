{
 "cells": [
  {
   "cell_type": "markdown",
   "id": "de4a72c9",
   "metadata": {},
   "source": [
    "***1. Даны значения величины заработной платы заемщиков банка (zp) и значения их поведенческого кредитного скоринга (ks): zp = [35, 45, 190, 200, 40, 70, 54, 150, 120, 110], ks = [401, 574, 874, 919, 459, 739, 653, 902, 746, 832]. Используя математические операции, посчитать коэффициенты линейной регрессии, приняв за X заработную плату (то есть, zp - признак), а за y - значения скорингового балла (то есть, ks - целевая переменная). Произвести расчет как с использованием intercept, так и без.***"
   ]
  },
  {
   "cell_type": "code",
   "execution_count": 97,
   "id": "913710f2",
   "metadata": {},
   "outputs": [
    {
     "name": "stdout",
     "output_type": "stream",
     "text": [
      "Коэффициенты с intercept: a = 444.18; b = 2.62\n",
      "Коэффициент b без использования intercept: 5.89\n"
     ]
    }
   ],
   "source": [
    "import numpy as np\n",
    "\n",
    "X = np.array([35, 45, 190, 200, 40, 70, 54, 150, 120, 110])\n",
    "y = np.array([401, 574, 874, 919, 459, 739, 653, 902, 746, 832])\n",
    "X = X.reshape(10,1)\n",
    "y = y.reshape(10,1)\n",
    "X_intercept = np.hstack([np.ones((10,1)),X])\n",
    "a_b_intercept = np.dot(np.linalg.inv(np.dot(X_intercept.T,X_intercept)),X_intercept.T@y)\n",
    "print(f'Коэффициенты с intercept: a = {round(a_b_intercept[0][0],2)}; b = {round(a_b_intercept[1][0],2)}')\n",
    "b = np.dot(np.linalg.inv(np.dot(X.T,X)),X.T@y)\n",
    "print(f'Коэффициент b без использования intercept: {round(b[0][0],2)}')"
   ]
  },
  {
   "cell_type": "markdown",
   "id": "63f48ab4",
   "metadata": {},
   "source": [
    "***2. Посчитать коэффициент линейной регрессии при заработной плате (zp), используя градиентный спуск (без intercept).***\n"
   ]
  },
  {
   "cell_type": "code",
   "execution_count": 92,
   "id": "27b76f33",
   "metadata": {
    "scrolled": true
   },
   "outputs": [
    {
     "name": "stdout",
     "output_type": "stream",
     "text": [
      "Iteration №1: B1=0.25952808, mse=493237.7212546963\n",
      "Iteration №101: B1=5.54537842245223, mse=58151.31823171113\n",
      "Iteration №201: B1=5.868748638669329, mse=56522.97550129376\n",
      "Iteration №301: B1=5.888531320728348, mse=56516.88130936019\n",
      "Iteration №401: B1=5.8897415574471985, mse=56516.85850140053\n",
      "Iteration №501: B1=5.889815595583751, mse=56516.858416040064\n",
      "Iteration №601: B1=5.889820124983314, mse=56516.85841572062\n",
      "Iteration №701: B1=5.889820402076462, mse=56516.85841571941\n",
      "Iteration №801: B1=5.88982041902807, mse=56516.8584157194\n",
      "Iteration №901: B1=5.889820420065112, mse=56516.85841571941\n",
      "Iteration №1001: B1=5.8898204201285544, mse=56516.85841571941\n",
      "Iteration №1101: B1=5.889820420132437, mse=56516.85841571943\n",
      "Iteration №1201: B1=5.889820420132673, mse=56516.85841571943\n",
      "Iteration №1301: B1=5.889820420132673, mse=56516.85841571943\n",
      "Iteration №1401: B1=5.889820420132673, mse=56516.85841571943\n",
      "Iteration №1501: B1=5.889820420132673, mse=56516.85841571943\n",
      "Iteration №1601: B1=5.889820420132673, mse=56516.85841571943\n",
      "Iteration №1701: B1=5.889820420132673, mse=56516.85841571943\n",
      "Iteration №1801: B1=5.889820420132673, mse=56516.85841571943\n",
      "Iteration №1901: B1=5.889820420132673, mse=56516.85841571943\n",
      "Iteration №2001: B1=5.889820420132673, mse=56516.85841571943\n",
      "Iteration №2101: B1=5.889820420132673, mse=56516.85841571943\n",
      "Iteration №2201: B1=5.889820420132673, mse=56516.85841571943\n",
      "Iteration №2301: B1=5.889820420132673, mse=56516.85841571943\n",
      "Iteration №2401: B1=5.889820420132673, mse=56516.85841571943\n",
      "Iteration №2501: B1=5.889820420132673, mse=56516.85841571943\n",
      "Iteration №2601: B1=5.889820420132673, mse=56516.85841571943\n",
      "Iteration №2701: B1=5.889820420132673, mse=56516.85841571943\n",
      "Iteration №2801: B1=5.889820420132673, mse=56516.85841571943\n",
      "Iteration №2901: B1=5.889820420132673, mse=56516.85841571943\n",
      "Iteration №3001: B1=5.889820420132673, mse=56516.85841571943\n"
     ]
    }
   ],
   "source": [
    "X = np.array([35, 45, 190, 200, 40, 70, 54, 150, 120, 110])\n",
    "y = np.array([401, 574, 874, 919, 459, 739, 653, 902, 746, 832])\n",
    "def mse(B1,X=X,y=y,n=10):\n",
    "    return np.sum((B1*X-y)**2)/n\n",
    "\n",
    "alpha = 1e-6\n",
    "B1 = 0.1\n",
    "n = 10\n",
    "\n",
    "for i in range(3001):\n",
    "    B1 -= alpha*2/n*np.sum((B1*X-y)*X)\n",
    "    if i%100 == 0:\n",
    "        print(f'Iteration №{i+1}: B1={B1}, mse={mse(B1)}')"
   ]
  },
  {
   "cell_type": "code",
   "execution_count": null,
   "id": "dd03d0d7",
   "metadata": {},
   "outputs": [],
   "source": [
    "B1=5.889820420132673"
   ]
  }
 ],
 "metadata": {
  "kernelspec": {
   "display_name": "Python 3 (ipykernel)",
   "language": "python",
   "name": "python3"
  },
  "language_info": {
   "codemirror_mode": {
    "name": "ipython",
    "version": 3
   },
   "file_extension": ".py",
   "mimetype": "text/x-python",
   "name": "python",
   "nbconvert_exporter": "python",
   "pygments_lexer": "ipython3",
   "version": "3.9.7"
  }
 },
 "nbformat": 4,
 "nbformat_minor": 5
}
