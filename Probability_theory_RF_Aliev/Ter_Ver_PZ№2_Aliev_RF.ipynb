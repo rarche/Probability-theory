{
 "cells": [
  {
   "cell_type": "markdown",
   "id": "9b0013a4",
   "metadata": {},
   "source": [
    "***1. Вероятность того, что стрелок попадет в мишень, выстрелив один раз, равна 0.8. Стрелок выстрелил 100 раз. Найдите вероятность того, что стрелок попадет в цель ровно 85 раз.***"
   ]
  },
  {
   "cell_type": "code",
   "execution_count": 11,
   "id": "b270ee93",
   "metadata": {},
   "outputs": [
    {
     "name": "stdout",
     "output_type": "stream",
     "text": [
      "Вероятность попадания стрелком 85 раз из 100 при p=0.8 составляет: 0.048\n"
     ]
    }
   ],
   "source": [
    "from math import factorial,e\n",
    "\n",
    "def combination(k,n):\n",
    "    return int(factorial(n)/(factorial(k)*factorial(n-k)))\n",
    "\n",
    "def binom_distribution(k,n,p):\n",
    "    return (combination(k,n))*(p**k)*((1-p)**(n-k))\n",
    "\n",
    "p = 0.8\n",
    "n = 100\n",
    "k = 85\n",
    "print(f'Вероятность попадания стрелком 85 раз из 100 при p={p} составляет: {round(binom_distribution(k,n,p),3)}')"
   ]
  },
  {
   "cell_type": "markdown",
   "id": "ffb0e9e0",
   "metadata": {},
   "source": [
    "***2. Вероятность того, что лампочка перегорит в течение первого дня эксплуатации, равна 0.0004. В жилом комплексе после ремонта в один день включили 5000 новых лампочек. Какова вероятность, что ни одна из них не перегорит в первый день? Какова вероятность, что перегорят ровно две?***"
   ]
  },
  {
   "cell_type": "code",
   "execution_count": 23,
   "id": "1c389dcd",
   "metadata": {},
   "outputs": [
    {
     "name": "stdout",
     "output_type": "stream",
     "text": [
      "Вероятность того, что ни одна из лампочек не перегорит в первый день эксплуатации: 0.135\n",
      "Вероятность того, что перегорят две лампочки, составляет: 0.271\n"
     ]
    }
   ],
   "source": [
    "def puasson_disribution(l,m):\n",
    "    return ((l**m)/(factorial(m)))*(e**(-l))\n",
    "    \n",
    "n = 5000\n",
    "p = 0.0004\n",
    "l = p*n\n",
    "m_0 = 0\n",
    "print(f'Вероятность того, что ни одна из лампочек не перегорит в первый день эксплуатации: {round(puasson_disribution(l,m_0),3)}')\n",
    "\n",
    "m_1 = 2\n",
    "print(f'Вероятность того, что перегорят две лампочки, составляет: {round(puasson_disribution(l,m_1),3)}')"
   ]
  },
  {
   "cell_type": "markdown",
   "id": "6142170d",
   "metadata": {},
   "source": [
    "***3. Монету подбросили 144 раза. Какова вероятность, что орел выпадет ровно 70 раз?***"
   ]
  },
  {
   "cell_type": "code",
   "execution_count": 24,
   "id": "769152a1",
   "metadata": {},
   "outputs": [
    {
     "name": "stdout",
     "output_type": "stream",
     "text": [
      "Вероятность выпадения 70 орлов при 144 подбрасываний составляет: 0.063\n"
     ]
    }
   ],
   "source": [
    "n = 144\n",
    "p = 0.5\n",
    "k = 70\n",
    "print(f'Вероятность выпадения {k} орлов при {n} подбрасываний составляет: {round(binom_distribution(k,n,p),3)}')"
   ]
  },
  {
   "cell_type": "markdown",
   "id": "ea4933ae",
   "metadata": {},
   "source": [
    "***4. В первом ящике находится 10 мячей, из которых 7 - белые. Во втором ящике - 11 мячей, из которых 9 белых. Из каждого ящика вытаскивают случайным образом по два мяча.***\n"
   ]
  },
  {
   "cell_type": "markdown",
   "id": "5eabc59c",
   "metadata": {},
   "source": [
    "*4.1 Какова вероятность того, что все мячи белые?*"
   ]
  },
  {
   "cell_type": "code",
   "execution_count": 47,
   "id": "0870d608",
   "metadata": {},
   "outputs": [
    {
     "name": "stdout",
     "output_type": "stream",
     "text": [
      "Вероятность того, что все мячи белые составляет ~ 0.31\n"
     ]
    }
   ],
   "source": [
    "p = ((7/10)*(6/9))*((9/11)*(8/10))\n",
    "print(f'Вероятность того, что все мячи белые составляет ~ {round(p,2)}')"
   ]
  },
  {
   "cell_type": "markdown",
   "id": "1eece2bd",
   "metadata": {},
   "source": [
    "*4.2 Какова вероятность того, что ровно два мяча белые?*"
   ]
  },
  {
   "cell_type": "code",
   "execution_count": 71,
   "id": "628a1905",
   "metadata": {},
   "outputs": [
    {
     "name": "stdout",
     "output_type": "stream",
     "text": [
      "Вероятность того, что все ровно 2 мяча белые составляет ~ 0.205\n"
     ]
    }
   ],
   "source": [
    "p_1 = ((7/10)*(6/9))*((2/11)*(1/10)) #б-б-ч-ч\n",
    "p_2 = ((7/10)*(3/9))*((9/11)*(2/10)) #б-ч-б-ч\n",
    "p_3 = ((3/10)*(7/9))*((9/11)*(2/10)) #ч-б-б-ч\n",
    "p_4 = ((7/10)*(3/9))*((2/11)*(9/10)) #б-ч-ч-б\n",
    "p_5 = ((3/10)*(7/9))*((2/11)*(9/10)) #ч-б-ч-б\n",
    "p_6 = ((3/10)*(2/9))*((9/11)*(8/10)) #ч-ч-б-б\n",
    "p = p_1+p_2+p_3+p_4+p_5+p_6\n",
    "print(f'Вероятность того, что все ровно 2 мяча белые составляет ~ {round(p,3)}')"
   ]
  },
  {
   "cell_type": "markdown",
   "id": "99df9d3f",
   "metadata": {},
   "source": [
    "*4.3 Какова вероятность того, что хотя бы один мяч белый?*"
   ]
  },
  {
   "cell_type": "code",
   "execution_count": 72,
   "id": "952d7bd7",
   "metadata": {},
   "outputs": [
    {
     "name": "stdout",
     "output_type": "stream",
     "text": [
      "Вероятность того, что хотя бы один мяч будет белым составляет ~ 0.999\n"
     ]
    }
   ],
   "source": [
    "p_1 = ((3/10)*(2/9))*((1/11)*(1/10)) #ч-ч-ч-ч\n",
    "p = 1 - p_1\n",
    "print(f'Вероятность того, что хотя бы один мяч будет белым составляет ~ {round(p,3)}')"
   ]
  }
 ],
 "metadata": {
  "kernelspec": {
   "display_name": "Python 3 (ipykernel)",
   "language": "python",
   "name": "python3"
  },
  "language_info": {
   "codemirror_mode": {
    "name": "ipython",
    "version": 3
   },
   "file_extension": ".py",
   "mimetype": "text/x-python",
   "name": "python",
   "nbconvert_exporter": "python",
   "pygments_lexer": "ipython3",
   "version": "3.9.7"
  }
 },
 "nbformat": 4,
 "nbformat_minor": 5
}
